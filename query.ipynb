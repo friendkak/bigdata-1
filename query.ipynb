{
 "cells": [
  {
   "cell_type": "code",
   "execution_count": 96,
   "metadata": {
    "collapsed": true
   },
   "outputs": [],
   "source": [
    "import s3fs\n",
    "import json\n",
    "import gzip\n",
    "from collections import defaultdict"
   ]
  },
  {
   "cell_type": "code",
   "execution_count": 41,
   "metadata": {
    "collapsed": false
   },
   "outputs": [],
   "source": [
    "class S3(s3fs.S3FileSystem):\n",
    "    def lsr(fs, path):\n",
    "        filenames = []\n",
    "        def go(path):\n",
    "            paths = fs.ls(path, detail=True)\n",
    "            for path in paths:\n",
    "                if path['StorageClass'] == 'DIRECTORY':\n",
    "                    go(path['Key'])\n",
    "                else:\n",
    "                    filenames.append(path['Key'])\n",
    "        go(path)\n",
    "        return filenames\n",
    "    \n",
    "    def jsongz(fs, path):\n",
    "        with fs.open(path, 'rb') as f:\n",
    "            with gzip.GzipFile(fileobj=f) as gz:\n",
    "                while True:\n",
    "                    line = gz.readline()\n",
    "                    if not line:\n",
    "                        return\n",
    "                    else:\n",
    "                        yield json.loads(line)"
   ]
  },
  {
   "cell_type": "code",
   "execution_count": 101,
   "metadata": {
    "collapsed": false,
    "scrolled": false
   },
   "outputs": [
    {
     "name": "stdout",
     "output_type": "stream",
     "text": [
      "localhost/secor/json/dt=2017-06-28/1_0_00000000000000006240.gz 520\n",
      "localhost/secor/json/dt=2017-06-28/1_0_00000000000000005720.gz 520\n"
     ]
    }
   ],
   "source": [
    "fs = S3(key='minio',\n",
    "        secret='miniostorage',\n",
    "        use_ssl=False,\n",
    "        client_kwargs={'endpoint_url': 'http://localhost:5000'})\n",
    "\n",
    "bucket = 'localhost'\n",
    "\n",
    "counts = defaultdict(int)\n",
    "for filename in fs.lsr(bucket + '/secor/json'):\n",
    "    for line in fs.jsongz(filename):\n",
    "        counts[filename] += 1\n",
    "\n",
    "for f, c in counts.iteritems():\n",
    "    print f, c"
   ]
  },
  {
   "cell_type": "code",
   "execution_count": 107,
   "metadata": {
    "collapsed": true
   },
   "outputs": [],
   "source": [
    "import datetime, dateutil, random"
   ]
  },
  {
   "cell_type": "code",
   "execution_count": 103,
   "metadata": {
    "collapsed": false
   },
   "outputs": [],
   "source": [
    "baseline = int(dateutil.parser.parse('2017-06-28T15:59:53.849Z').strftime('%s'))"
   ]
  },
  {
   "cell_type": "code",
   "execution_count": 108,
   "metadata": {
    "collapsed": false,
    "scrolled": true
   },
   "outputs": [],
   "source": [
    "with open('crap.txt', 'w') as f:\n",
    "    for sec in xrange(60*60*2):\n",
    "        data = json.dumps([str(random.random()) for _ in xrange(10)])\n",
    "        timestamp = datetime.datetime.fromtimestamp(baseline+sec).isoformat() + '.000Z'\n",
    "        f.write(json.dumps(dict(timestamp=timestamp, data=data)))\n",
    "        f.write('\\n')"
   ]
  }
 ],
 "metadata": {
  "kernelspec": {
   "display_name": "Python 2",
   "language": "python",
   "name": "python2"
  },
  "language_info": {
   "codemirror_mode": {
    "name": "ipython",
    "version": 2
   },
   "file_extension": ".py",
   "mimetype": "text/x-python",
   "name": "python",
   "nbconvert_exporter": "python",
   "pygments_lexer": "ipython2",
   "version": "2.7.10"
  }
 },
 "nbformat": 4,
 "nbformat_minor": 1
}
